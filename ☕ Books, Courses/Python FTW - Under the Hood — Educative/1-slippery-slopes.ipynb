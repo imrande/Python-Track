{
 "cells": [
  {
   "cell_type": "markdown",
   "metadata": {},
   "source": [
    "### _Stubborn del_"
   ]
  },
  {
   "cell_type": "markdown",
   "metadata": {},
   "source": [
    "#### Example 01"
   ]
  },
  {
   "cell_type": "code",
   "execution_count": 1,
   "metadata": {},
   "outputs": [],
   "source": [
    "class SomeClass:\n",
    "    def __del__(self):\n",
    "        print('Deleted')"
   ]
  },
  {
   "cell_type": "code",
   "execution_count": 3,
   "metadata": {},
   "outputs": [
    {
     "name": "stdout",
     "output_type": "stream",
     "text": [
      "Deleted\n"
     ]
    }
   ],
   "source": [
    "x = SomeClass()\n",
    "y = x\n",
    "del x # this should print 'Deleted'\n",
    "del y"
   ]
  },
  {
   "cell_type": "markdown",
   "metadata": {},
   "source": [
    "#### Example 02"
   ]
  },
  {
   "cell_type": "code",
   "execution_count": 10,
   "metadata": {},
   "outputs": [
    {
     "name": "stdout",
     "output_type": "stream",
     "text": [
      "<__main__.SomeClass object at 0x0000021DB88E99F0>\n",
      "Deleted\n"
     ]
    }
   ],
   "source": [
    "x = SomeClass()\n",
    "y = x\n",
    "del x\n",
    "print(y) # check if y exists\n",
    "del y"
   ]
  },
  {
   "cell_type": "markdown",
   "metadata": {},
   "source": [
    "#### Explanation\n",
    "\n",
    "- `del x` doesn't directly call `x.__del__()`\n",
    "- When `del x` is encountered, Python deletes the name `x` from the current scope and decrements by 1 the reference count of the object `x` referenced. `__del__()` is called only when the object’s reference count reaches zero.\n",
    "- `del Name` only calls when references count reached zero."
   ]
  },
  {
   "cell_type": "markdown",
   "metadata": {},
   "source": [
    "### _The Out of Scope Variable_"
   ]
  },
  {
   "cell_type": "code",
   "execution_count": 3,
   "metadata": {},
   "outputs": [
    {
     "name": "stdout",
     "output_type": "stream",
     "text": [
      "1\n"
     ]
    },
    {
     "ename": "UnboundLocalError",
     "evalue": "local variable 'a' referenced before assignment",
     "output_type": "error",
     "traceback": [
      "\u001b[1;31m---------------------------------------------------------------------------\u001b[0m",
      "\u001b[1;31mUnboundLocalError\u001b[0m                         Traceback (most recent call last)",
      "\u001b[1;32m~\\AppData\\Local\\Temp/ipykernel_7072/679263018.py\u001b[0m in \u001b[0;36m<module>\u001b[1;34m\u001b[0m\n\u001b[0;32m      8\u001b[0m \u001b[1;33m\u001b[0m\u001b[0m\n\u001b[0;32m      9\u001b[0m \u001b[0msome_func\u001b[0m\u001b[1;33m(\u001b[0m\u001b[1;33m)\u001b[0m\u001b[1;33m\u001b[0m\u001b[1;33m\u001b[0m\u001b[0m\n\u001b[1;32m---> 10\u001b[1;33m \u001b[0manother_func\u001b[0m\u001b[1;33m(\u001b[0m\u001b[1;33m)\u001b[0m\u001b[1;33m\u001b[0m\u001b[1;33m\u001b[0m\u001b[0m\n\u001b[0m",
      "\u001b[1;32m~\\AppData\\Local\\Temp/ipykernel_7072/679263018.py\u001b[0m in \u001b[0;36manother_func\u001b[1;34m()\u001b[0m\n\u001b[0;32m      4\u001b[0m \u001b[1;33m\u001b[0m\u001b[0m\n\u001b[0;32m      5\u001b[0m \u001b[1;32mdef\u001b[0m \u001b[0manother_func\u001b[0m\u001b[1;33m(\u001b[0m\u001b[1;33m)\u001b[0m\u001b[1;33m:\u001b[0m\u001b[1;33m\u001b[0m\u001b[1;33m\u001b[0m\u001b[0m\n\u001b[1;32m----> 6\u001b[1;33m     \u001b[0ma\u001b[0m \u001b[1;33m+=\u001b[0m \u001b[1;36m1\u001b[0m\u001b[1;33m\u001b[0m\u001b[1;33m\u001b[0m\u001b[0m\n\u001b[0m\u001b[0;32m      7\u001b[0m     \u001b[0mprint\u001b[0m\u001b[1;33m(\u001b[0m\u001b[0ma\u001b[0m\u001b[1;33m)\u001b[0m \u001b[1;31m# NameError\u001b[0m\u001b[1;33m\u001b[0m\u001b[1;33m\u001b[0m\u001b[0m\n\u001b[0;32m      8\u001b[0m \u001b[1;33m\u001b[0m\u001b[0m\n",
      "\u001b[1;31mUnboundLocalError\u001b[0m: local variable 'a' referenced before assignment"
     ]
    }
   ],
   "source": [
    "a = 1\n",
    "def some_func():\n",
    "    print(a) # 1\n",
    "\n",
    "def another_func():\n",
    "    a += 1\n",
    "    print(a) # UnboundLocalError\n",
    "\n",
    "some_func()\n",
    "another_func()"
   ]
  },
  {
   "cell_type": "markdown",
   "metadata": {},
   "source": [
    "#### Explanation"
   ]
  },
  {
   "cell_type": "markdown",
   "metadata": {},
   "source": [
    "- When you make an assignment to a variable in scope, it becomes local to that scope. So `a` becomes local to the scope of `another_func`, but it hasn't been initialized previously in the same scope.\n",
    "- https://sebastianraschka.com/Articles/2014_python_scope_and_namespaces.html"
   ]
  },
  {
   "cell_type": "code",
   "execution_count": 6,
   "metadata": {},
   "outputs": [
    {
     "name": "stdout",
     "output_type": "stream",
     "text": [
      "2\n"
     ]
    }
   ],
   "source": [
    "# to modify the outer scope variable a use global keyword\n",
    "\n",
    "a = 1\n",
    "def another_func():\n",
    "    global a\n",
    "    a += 1\n",
    "    print(a)\n",
    "\n",
    "another_func()"
   ]
  },
  {
   "cell_type": "markdown",
   "metadata": {},
   "source": [
    "### _Deleting a List Item While Iterating_"
   ]
  },
  {
   "cell_type": "code",
   "execution_count": 7,
   "metadata": {},
   "outputs": [
    {
     "name": "stdout",
     "output_type": "stream",
     "text": [
      "[1, 2, 3, 4]\n",
      "[2, 4]\n",
      "[]\n",
      "[2, 4]\n"
     ]
    }
   ],
   "source": [
    "# https://stackoverflow.com/questions/45946228/what-happens-when-you-try-to-delete-a-list-element-while-iterating-over-it\n",
    "# https://stackoverflow.com/questions/45877614/how-to-change-all-the-dictionary-keys-in-a-for-loop-with-d-items\n",
    "\n",
    "list_1 = list(range(1,5))\n",
    "list_2 = list(range(1,5))\n",
    "list_3 = list(range(1,5))\n",
    "list_4 = list(range(1,5))\n",
    "\n",
    "for index, item in enumerate(list_1):\n",
    "    del item\n",
    "\n",
    "for index, item in enumerate(list_2):\n",
    "    list_2.remove(item)\n",
    "\n",
    "for index, item in enumerate(list_3[:]): # make a new copy of list\n",
    "    list_3.remove(item)\n",
    "\n",
    "for index, item in enumerate(list_4):\n",
    "    list_4.pop(index)\n",
    "\n",
    "print(list_1)\n",
    "print(list_2)\n",
    "print(list_3)\n",
    "print(list_4)"
   ]
  },
  {
   "cell_type": "code",
   "execution_count": 9,
   "metadata": {},
   "outputs": [
    {
     "name": "stdout",
     "output_type": "stream",
     "text": [
      "[0, 1, 2, 3, 4, 6, 7, 8, 9]\n",
      "[0, 1, 2, 3, 4, 7, 8, 9]\n"
     ]
    }
   ],
   "source": [
    "x = list(range(10))\n",
    "x.pop(5)\n",
    "print(x) # 0,1,2,3,4,6,7,8,9\n",
    "\n",
    "x.remove(6)\n",
    "print(x) # 0,1,2,3,4,7,8,9"
   ]
  },
  {
   "cell_type": "markdown",
   "metadata": {},
   "source": [
    "#### Explanation\n",
    "\n",
    "Difference between `del` | `pop` | `remove`\n",
    "\n",
    "- `del var_name` just removes the binding of the `var_name` from the local or global scope.\n",
    "- `remove` removes the first matching value. Raise `ValueError` if the value is not found.\n",
    "- `pop` removes & return at a specific index value. Raise `IndexError` if the index is not valid\n",
    "\n",
    "Why result `[2, 4]`\n",
    "\n",
    "- The list iteration is done index by index, and when we remove `1` from `list_2` or `list_4`, the contents of the lists are now `[2, 3, 4]`. The remaining elements are shifted down, i.e.,`2` is at index `0`, and `3` is at index `1`. \n",
    "- Since the next iteration is going to look at index `1` (which is the 3), the `2` gets skipped entirely. A similar thing will happen with every alternate element in the list sequence."
   ]
  },
  {
   "cell_type": "markdown",
   "metadata": {},
   "source": [
    "### _A Tic-tac-toe Where X Wins in the First Attempt!_"
   ]
  },
  {
   "cell_type": "code",
   "execution_count": 10,
   "metadata": {},
   "outputs": [
    {
     "name": "stdout",
     "output_type": "stream",
     "text": [
      "[['', '', ''], ['', '', ''], ['', '', '']]\n",
      "['', '', '']\n",
      "\n",
      "[['X', '', ''], ['X', '', ''], ['X', '', '']]\n"
     ]
    }
   ],
   "source": [
    "empty_cell = ''\n",
    "row = [empty_cell] * 3 # ['', '', '']\n",
    "board = [row] * 3 # [['', '', ''], [['', '', '']], [['', '', '']]]\n",
    "\n",
    "print(board) # [['', '', ''], [['', '', '']], [['', '', '']]]\n",
    "print(board[0]) # ['', '', '']\n",
    "print(board[0][0]) # ''\n",
    "board[0][0] = 'X'\n",
    "print(board)"
   ]
  },
  {
   "cell_type": "markdown",
   "metadata": {},
   "source": [
    "#### Explanation\n",
    "\n",
    "- when `board` is initialized by multiplying the `row`, each of the elements `board[0], board[1], board[2]` is a reference to the same list referred by `row`. Because `str` is immutable...\n",
    "- so when we modified `board[0][0]` we've technically modified `row[0]`. Which means we've also modified `board[1][0], board[2][0]` as well since they're pointing to the same object...\n",
    "- Just like the `board` is composed of the `row`, the `row` is composed of `empty_cell`. So why didn’t `row[0]` lead to the modification of `empty_cell`, and ultimately to the entire row? It’s because `empty_cell` is an immutable variable, whereas row is a mutable variable. The behavior only applies to mutable variables."
   ]
  },
  {
   "cell_type": "code",
   "execution_count": 18,
   "metadata": {},
   "outputs": [
    {
     "name": "stdout",
     "output_type": "stream",
     "text": [
      "[['', '', ''], ['', '', ''], ['', '', '']]\n",
      "['', '', '']\n",
      "\n",
      "[['X', '', ''], ['', '', ''], ['', '', '']]\n"
     ]
    }
   ],
   "source": [
    "# how to Avoid\n",
    "\n",
    "empty_cell = ''\n",
    "board = [[empty_cell]*3 for _ in range(3)] # [['', '', ''], [['', '', '']], [['', '', '']]]\n",
    "\n",
    "print(board) # [['', '', ''], [['', '', '']], [['', '', '']]]\n",
    "print(board[0]) # ['', '', '']\n",
    "print(board[0][0]) # ''\n",
    "board[0][0] = 'X'\n",
    "print(board)"
   ]
  },
  {
   "cell_type": "markdown",
   "metadata": {},
   "source": [
    "### _Lossy Zip of Iterators_"
   ]
  },
  {
   "cell_type": "code",
   "execution_count": 22,
   "metadata": {},
   "outputs": [
    {
     "name": "stdout",
     "output_type": "stream",
     "text": [
      "[0, 1, 2, 3, 4, 5, 6]\n",
      "[0, 1, 2] [3, 4, 5, 6]\n",
      "<list_iterator object at 0x000001CC435D9780>\n",
      "[(0, 0), (1, 1), (2, 2)]\n",
      "[(4, 3), (5, 4), (6, 5)]\n"
     ]
    }
   ],
   "source": [
    "numbers = list(range(7))\n",
    "print(numbers) # 0,1,2,3,4,5,6\n",
    "\n",
    "first_three, remianing = numbers[0:3], numbers[3:]\n",
    "print(first_three, remianing) # [0,1,2] [3,4,5,6]\n",
    "\n",
    "numbers_iter = iter(numbers)\n",
    "print(numbers_iter)\n",
    "print(list(zip(numbers_iter, first_three))) # [(0,0), (1,1), (2,2)]\n",
    "\n",
    "print(list(zip(numbers_iter, remianing))) # ?where 3 goes"
   ]
  },
  {
   "cell_type": "code",
   "execution_count": null,
   "metadata": {},
   "outputs": [],
   "source": [
    "# zip implementation\n",
    "\n",
    "def zip(*iterables):\n",
    "    sentinel = object()\n",
    "    iterators = [iter(it) for it in iterables]\n",
    "    while iterators:\n",
    "        result = []\n",
    "        for it in iterators:\n",
    "            elem = next(it, sentinel)\n",
    "            if elem is sentinel: return\n",
    "            result.append(elem)\n",
    "        yield tuple(result)"
   ]
  },
  {
   "cell_type": "markdown",
   "metadata": {},
   "source": [
    "#### I didn't understand this explanation\n",
    "\n",
    "- So, the function takes in an arbitrary number of iterable objects, adds each of their items to the result list by calling the next function on them, and stops whenever any of the iterable objects are exhausted.\n",
    "- The caveat here is that when any iterable is exhausted, the existing elements in the result list are discarded. That’s what happened with 3 in the numbers_iter."
   ]
  },
  {
   "cell_type": "code",
   "execution_count": 29,
   "metadata": {},
   "outputs": [
    {
     "name": "stdout",
     "output_type": "stream",
     "text": [
      "[3, 4, 5, 6]\n",
      "[(0, 0), (1, 1), (2, 2)]\n",
      "[(3, 3), (4, 4), (5, 5), (6, 6)]\n"
     ]
    }
   ],
   "source": [
    "# How to Avoid\n",
    "\n",
    "numbers = list(range(7))\n",
    "first_three, remianing = numbers[0:3], numbers[3:]\n",
    "numbers_iter = iter(numbers)\n",
    "\n",
    "# first arg of zip should be the one with fewest element\n",
    "print(list(zip(first_three, numbers_iter)))\n",
    "# print(list(numbers_iter)) [3,4,5,6]\n",
    "print(list(zip(remianing, numbers_iter)))"
   ]
  }
 ],
 "metadata": {
  "interpreter": {
   "hash": "b76e4b0f89c093671128ecf24112d72d18e0007f69f0735887eab418c7195367"
  },
  "kernelspec": {
   "display_name": "Python 3.10.1 64-bit",
   "language": "python",
   "name": "python3"
  },
  "language_info": {
   "codemirror_mode": {
    "name": "ipython",
    "version": 3
   },
   "file_extension": ".py",
   "mimetype": "text/x-python",
   "name": "python",
   "nbconvert_exporter": "python",
   "pygments_lexer": "ipython3",
   "version": "3.10.1"
  },
  "orig_nbformat": 4
 },
 "nbformat": 4,
 "nbformat_minor": 2
}
