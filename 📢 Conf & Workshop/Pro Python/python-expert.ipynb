{
 "cells": [
  {
   "cell_type": "markdown",
   "metadata": {},
   "source": [
    "Conf URL - https://www.youtube.com/watch?v=cKPlPJyQrt4"
   ]
  },
  {
   "cell_type": "code",
   "execution_count": 1,
   "metadata": {},
   "outputs": [
    {
     "data": {
      "text/plain": [
       "'foo'"
      ]
     },
     "execution_count": 1,
     "metadata": {},
     "output_type": "execute_result"
    }
   ],
   "source": [
    "class Base:\n",
    "    def foo(self):\n",
    "        return 'foo'\n",
    "\n",
    "class Derived(Base):\n",
    "    def bar(self):\n",
    "        return super().foo()\n",
    "\n",
    "d = Derived()\n",
    "d.bar()"
   ]
  },
  {
   "cell_type": "code",
   "execution_count": 10,
   "metadata": {},
   "outputs": [
    {
     "name": "stdout",
     "output_type": "stream",
     "text": [
      "elapsed 0.0\n",
      "5\n",
      "elapsed 0.0\n",
      "-2\n"
     ]
    }
   ],
   "source": [
    "from time import time\n",
    "\n",
    "def timer(func):\n",
    "    def wrapper(*args, **kwargs):\n",
    "        before = time()\n",
    "        rv = func(*args, **kwargs)\n",
    "        after = time()\n",
    "        print('elapsed', after-before)\n",
    "        return rv\n",
    "    return wrapper\n",
    "\n",
    "@timer\n",
    "def add(a, b):\n",
    "    return a + b\n",
    "\n",
    "@timer\n",
    "def sub(a, b):\n",
    "    return a - b\n",
    "\n",
    "print(add(2, 3))\n",
    "print(sub(3, 5))"
   ]
  },
  {
   "cell_type": "code",
   "execution_count": 11,
   "metadata": {},
   "outputs": [],
   "source": [
    "def add1(x, y): return x + y\n",
    "\n",
    "class Adder():\n",
    "    def __call__(self, x, y):\n",
    "        return x + y"
   ]
  },
  {
   "cell_type": "code",
   "execution_count": 12,
   "metadata": {},
   "outputs": [
    {
     "name": "stdout",
     "output_type": "stream",
     "text": [
      "30\n",
      "30\n"
     ]
    }
   ],
   "source": [
    "add2 = Adder()\n",
    "print(add2(10, 20))\n",
    "print(add1(10, 20))"
   ]
  },
  {
   "cell_type": "code",
   "execution_count": 14,
   "metadata": {},
   "outputs": [
    {
     "name": "stdout",
     "output_type": "stream",
     "text": [
      "<class 'function'>\n",
      "<class '__main__.Adder'>\n"
     ]
    }
   ],
   "source": [
    "print(type(add1))\n",
    "print(type(add2))"
   ]
  },
  {
   "cell_type": "code",
   "execution_count": 16,
   "metadata": {},
   "outputs": [
    {
     "name": "stdout",
     "output_type": "stream",
     "text": [
      "0\n",
      "1\n",
      "2\n",
      "3\n",
      "4\n",
      "5\n",
      "6\n",
      "7\n",
      "8\n",
      "9\n"
     ]
    }
   ],
   "source": [
    "import time\n",
    "\n",
    "def compute():\n",
    "    for i in range(10):\n",
    "        time.sleep(.5)\n",
    "        yield i\n",
    "\n",
    "for val in compute():\n",
    "    print(val)"
   ]
  }
 ],
 "metadata": {
  "kernelspec": {
   "display_name": "Python 3.8.4 32-bit",
   "metadata": {
    "interpreter": {
     "hash": "c7f23210fe948138299b44c825f8d614c2df95c372787f4166c017b0c02863dd"
    }
   },
   "name": "python3"
  },
  "language_info": {
   "codemirror_mode": {
    "name": "ipython",
    "version": 3
   },
   "file_extension": ".py",
   "mimetype": "text/x-python",
   "name": "python",
   "nbconvert_exporter": "python",
   "pygments_lexer": "ipython3",
   "version": "3.8.4-final"
  },
  "orig_nbformat": 2
 },
 "nbformat": 4,
 "nbformat_minor": 2
}
